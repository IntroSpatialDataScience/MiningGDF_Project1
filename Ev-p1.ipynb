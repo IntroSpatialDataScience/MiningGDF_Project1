{
 "cells": [
  {
   "cell_type": "markdown",
   "id": "8554488f-bfa6-45c7-ac28-13687d643951",
   "metadata": {},
   "source": [
    "# Evaluación - parte 1"
   ]
  },
  {
   "cell_type": "code",
   "execution_count": 1,
   "id": "caec0b8a-1e93-47ac-b853-e48c70ef4cf6",
   "metadata": {
    "tags": []
   },
   "outputs": [],
   "source": [
    "import os\n",
    "import geopandas as gpd\n",
    "from  fiona import listlayers\n",
    "import matplotlib.pyplot as plt"
   ]
  },
  {
   "cell_type": "markdown",
   "id": "53c7fafc-2039-4221-b189-fe8a15d57f57",
   "metadata": {},
   "source": [
    "## Exercise 1"
   ]
  },
  {
   "cell_type": "markdown",
   "id": "d901308a-111a-4cb9-a20a-ae1eab866bf4",
   "metadata": {},
   "source": [
    "    \n",
    "### 1. Use two maps of points."
   ]
  },
  {
   "cell_type": "code",
   "execution_count": 2,
   "id": "b7fea98c-92b5-47cb-8f94-ceba7b4977f1",
   "metadata": {
    "tags": []
   },
   "outputs": [],
   "source": [
    "peru_health = \"https://github.com/IntroSpatialDataScience/MiningGDF_Project1/raw/main/maps/peru_health_24891.gpkg\""
   ]
  },
  {
   "cell_type": "code",
   "execution_count": 3,
   "id": "ec4a36ee-5602-4535-8765-c2f1648dba0a",
   "metadata": {
    "tags": []
   },
   "outputs": [
    {
     "data": {
      "text/plain": [
       "['healthsites']"
      ]
     },
     "execution_count": 3,
     "metadata": {},
     "output_type": "execute_result"
    }
   ],
   "source": [
    "listlayers(peru_health)"
   ]
  },
  {
   "cell_type": "code",
   "execution_count": 4,
   "id": "0993776e-6db6-4e32-a536-d93797108cfe",
   "metadata": {
    "tags": []
   },
   "outputs": [],
   "source": [
    "healthsites =gpd.read_file(peru_health,layer='healthsites')"
   ]
  },
  {
   "cell_type": "markdown",
   "id": "ae98a4e2-5a02-4a9f-9e27-d09b8bdd1da2",
   "metadata": {},
   "source": [
    "### 2. Compute the distance matrix for both maps."
   ]
  },
  {
   "cell_type": "markdown",
   "id": "6f86c4f6-d39f-46cf-a538-d9ee3b37a01e",
   "metadata": {},
   "source": [
    "### 3. Select one row of the distance matrix, and plot the two points with the minimal distance on top of the country of your choosing."
   ]
  },
  {
   "cell_type": "code",
   "execution_count": null,
   "id": "60887a55-b231-495c-a390-66ee16758d55",
   "metadata": {},
   "outputs": [],
   "source": []
  }
 ],
 "metadata": {
  "kernelspec": {
   "display_name": "Python 3 (ipykernel)",
   "language": "python",
   "name": "python3"
  },
  "language_info": {
   "codemirror_mode": {
    "name": "ipython",
    "version": 3
   },
   "file_extension": ".py",
   "mimetype": "text/x-python",
   "name": "python",
   "nbconvert_exporter": "python",
   "pygments_lexer": "ipython3",
   "version": "3.11.4"
  }
 },
 "nbformat": 4,
 "nbformat_minor": 5
}
